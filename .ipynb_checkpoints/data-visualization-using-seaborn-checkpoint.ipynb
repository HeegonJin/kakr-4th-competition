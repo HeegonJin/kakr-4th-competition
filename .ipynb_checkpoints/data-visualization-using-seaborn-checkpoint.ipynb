{
 "cells": [
  {
   "cell_type": "code",
   "execution_count": 3,
   "metadata": {
    "_cell_guid": "b1076dfc-b9ad-4769-8c92-a6c4dae69d19",
    "_uuid": "8f2839f25d086af736a60e9eeb907d3b93b6e0e5"
   },
   "outputs": [],
   "source": [
    "# This Python 3 environment comes with many helpful analytics libraries installed\n",
    "# It is defined by the kaggle/python Docker image: https://github.com/kaggle/docker-python\n",
    "# For example, here's several helpful packages to load\n",
    "\n",
    "import numpy as np # linear algebra\n",
    "import pandas as pd # data processing, CSV file I/O (e.g. pd.read_csv)\n",
    "import matplotlib as mpl\n",
    "import matplotlib.pyplot as plt\n",
    "import seaborn as sns\n",
    "import missingno as msno\n",
    "# Input data files are available in the read-only \"../input/\" directory\n",
    "# For example, running this (by clicking run or pressing Shift+Enter) will list all files under the input directory\n",
    "\n",
    "import os\n",
    "for dirname, _, filenames in os.walk('/kaggle/input'):\n",
    "    for filename in filenames:\n",
    "        print(os.path.join(dirname, filename))\n",
    "\n",
    "# You can write up to 20GB to the current directory (/kaggle/working/) that gets preserved as output when you create a version using \"Save & Run All\" \n",
    "# You can also write temporary files to /kaggle/temp/, but they won't be saved outside of the current session"
   ]
  },
  {
   "cell_type": "code",
   "execution_count": 4,
   "metadata": {
    "_cell_guid": "79c7e3d0-c299-4dcb-8224-4455121ee9b0",
    "_uuid": "d629ff2d2480ee46fbb7e2d37f6b5fab8052498a"
   },
   "outputs": [],
   "source": [
    "train_df = pd.read_csv('./train.csv')\n",
    "test_df = pd.read_csv('./test.csv')"
   ]
  },
  {
   "cell_type": "code",
   "execution_count": 5,
   "metadata": {},
   "outputs": [
    {
     "data": {
      "text/html": [
       "<div>\n",
       "<style scoped>\n",
       "    .dataframe tbody tr th:only-of-type {\n",
       "        vertical-align: middle;\n",
       "    }\n",
       "\n",
       "    .dataframe tbody tr th {\n",
       "        vertical-align: top;\n",
       "    }\n",
       "\n",
       "    .dataframe thead th {\n",
       "        text-align: right;\n",
       "    }\n",
       "</style>\n",
       "<table border=\"1\" class=\"dataframe\">\n",
       "  <thead>\n",
       "    <tr style=\"text-align: right;\">\n",
       "      <th></th>\n",
       "      <th>id</th>\n",
       "      <th>age</th>\n",
       "      <th>workclass</th>\n",
       "      <th>fnlwgt</th>\n",
       "      <th>education</th>\n",
       "      <th>education_num</th>\n",
       "      <th>marital_status</th>\n",
       "      <th>occupation</th>\n",
       "      <th>relationship</th>\n",
       "      <th>race</th>\n",
       "      <th>sex</th>\n",
       "      <th>capital_gain</th>\n",
       "      <th>capital_loss</th>\n",
       "      <th>hours_per_week</th>\n",
       "      <th>native_country</th>\n",
       "      <th>income</th>\n",
       "    </tr>\n",
       "  </thead>\n",
       "  <tbody>\n",
       "    <tr>\n",
       "      <th>0</th>\n",
       "      <td>0</td>\n",
       "      <td>40</td>\n",
       "      <td>Private</td>\n",
       "      <td>168538</td>\n",
       "      <td>HS-grad</td>\n",
       "      <td>9</td>\n",
       "      <td>Married-civ-spouse</td>\n",
       "      <td>Sales</td>\n",
       "      <td>Husband</td>\n",
       "      <td>White</td>\n",
       "      <td>Male</td>\n",
       "      <td>0</td>\n",
       "      <td>0</td>\n",
       "      <td>60</td>\n",
       "      <td>United-States</td>\n",
       "      <td>&gt;50K</td>\n",
       "    </tr>\n",
       "    <tr>\n",
       "      <th>1</th>\n",
       "      <td>1</td>\n",
       "      <td>17</td>\n",
       "      <td>Private</td>\n",
       "      <td>101626</td>\n",
       "      <td>9th</td>\n",
       "      <td>5</td>\n",
       "      <td>Never-married</td>\n",
       "      <td>Machine-op-inspct</td>\n",
       "      <td>Own-child</td>\n",
       "      <td>White</td>\n",
       "      <td>Male</td>\n",
       "      <td>0</td>\n",
       "      <td>0</td>\n",
       "      <td>20</td>\n",
       "      <td>United-States</td>\n",
       "      <td>&lt;=50K</td>\n",
       "    </tr>\n",
       "    <tr>\n",
       "      <th>2</th>\n",
       "      <td>2</td>\n",
       "      <td>18</td>\n",
       "      <td>Private</td>\n",
       "      <td>353358</td>\n",
       "      <td>Some-college</td>\n",
       "      <td>10</td>\n",
       "      <td>Never-married</td>\n",
       "      <td>Other-service</td>\n",
       "      <td>Own-child</td>\n",
       "      <td>White</td>\n",
       "      <td>Male</td>\n",
       "      <td>0</td>\n",
       "      <td>0</td>\n",
       "      <td>16</td>\n",
       "      <td>United-States</td>\n",
       "      <td>&lt;=50K</td>\n",
       "    </tr>\n",
       "    <tr>\n",
       "      <th>3</th>\n",
       "      <td>3</td>\n",
       "      <td>21</td>\n",
       "      <td>Private</td>\n",
       "      <td>151158</td>\n",
       "      <td>Some-college</td>\n",
       "      <td>10</td>\n",
       "      <td>Never-married</td>\n",
       "      <td>Prof-specialty</td>\n",
       "      <td>Own-child</td>\n",
       "      <td>White</td>\n",
       "      <td>Female</td>\n",
       "      <td>0</td>\n",
       "      <td>0</td>\n",
       "      <td>25</td>\n",
       "      <td>United-States</td>\n",
       "      <td>&lt;=50K</td>\n",
       "    </tr>\n",
       "    <tr>\n",
       "      <th>4</th>\n",
       "      <td>4</td>\n",
       "      <td>24</td>\n",
       "      <td>Private</td>\n",
       "      <td>122234</td>\n",
       "      <td>Some-college</td>\n",
       "      <td>10</td>\n",
       "      <td>Never-married</td>\n",
       "      <td>Adm-clerical</td>\n",
       "      <td>Not-in-family</td>\n",
       "      <td>Black</td>\n",
       "      <td>Female</td>\n",
       "      <td>0</td>\n",
       "      <td>0</td>\n",
       "      <td>20</td>\n",
       "      <td>?</td>\n",
       "      <td>&lt;=50K</td>\n",
       "    </tr>\n",
       "  </tbody>\n",
       "</table>\n",
       "</div>"
      ],
      "text/plain": [
       "   id  age workclass  fnlwgt     education  education_num      marital_status  \\\n",
       "0   0   40   Private  168538       HS-grad              9  Married-civ-spouse   \n",
       "1   1   17   Private  101626           9th              5       Never-married   \n",
       "2   2   18   Private  353358  Some-college             10       Never-married   \n",
       "3   3   21   Private  151158  Some-college             10       Never-married   \n",
       "4   4   24   Private  122234  Some-college             10       Never-married   \n",
       "\n",
       "          occupation   relationship   race     sex  capital_gain  \\\n",
       "0              Sales        Husband  White    Male             0   \n",
       "1  Machine-op-inspct      Own-child  White    Male             0   \n",
       "2      Other-service      Own-child  White    Male             0   \n",
       "3     Prof-specialty      Own-child  White  Female             0   \n",
       "4       Adm-clerical  Not-in-family  Black  Female             0   \n",
       "\n",
       "   capital_loss  hours_per_week native_country income  \n",
       "0             0              60  United-States   >50K  \n",
       "1             0              20  United-States  <=50K  \n",
       "2             0              16  United-States  <=50K  \n",
       "3             0              25  United-States  <=50K  \n",
       "4             0              20              ?  <=50K  "
      ]
     },
     "execution_count": 5,
     "metadata": {},
     "output_type": "execute_result"
    }
   ],
   "source": [
    "train_df.head()"
   ]
  },
  {
   "cell_type": "code",
   "execution_count": 6,
   "metadata": {},
   "outputs": [
    {
     "name": "stdout",
     "output_type": "stream",
     "text": [
      "<class 'pandas.core.frame.DataFrame'>\n",
      "RangeIndex: 26049 entries, 0 to 26048\n",
      "Data columns (total 16 columns):\n",
      " #   Column          Non-Null Count  Dtype \n",
      "---  ------          --------------  ----- \n",
      " 0   id              26049 non-null  int64 \n",
      " 1   age             26049 non-null  int64 \n",
      " 2   workclass       26049 non-null  object\n",
      " 3   fnlwgt          26049 non-null  int64 \n",
      " 4   education       26049 non-null  object\n",
      " 5   education_num   26049 non-null  int64 \n",
      " 6   marital_status  26049 non-null  object\n",
      " 7   occupation      26049 non-null  object\n",
      " 8   relationship    26049 non-null  object\n",
      " 9   race            26049 non-null  object\n",
      " 10  sex             26049 non-null  object\n",
      " 11  capital_gain    26049 non-null  int64 \n",
      " 12  capital_loss    26049 non-null  int64 \n",
      " 13  hours_per_week  26049 non-null  int64 \n",
      " 14  native_country  26049 non-null  object\n",
      " 15  income          26049 non-null  object\n",
      "dtypes: int64(7), object(9)\n",
      "memory usage: 3.2+ MB\n"
     ]
    }
   ],
   "source": [
    "train_df.info()"
   ]
  },
  {
   "cell_type": "code",
   "execution_count": 7,
   "metadata": {},
   "outputs": [
    {
     "data": {
      "text/html": [
       "<div>\n",
       "<style scoped>\n",
       "    .dataframe tbody tr th:only-of-type {\n",
       "        vertical-align: middle;\n",
       "    }\n",
       "\n",
       "    .dataframe tbody tr th {\n",
       "        vertical-align: top;\n",
       "    }\n",
       "\n",
       "    .dataframe thead th {\n",
       "        text-align: right;\n",
       "    }\n",
       "</style>\n",
       "<table border=\"1\" class=\"dataframe\">\n",
       "  <thead>\n",
       "    <tr style=\"text-align: right;\">\n",
       "      <th></th>\n",
       "      <th>id</th>\n",
       "      <th>age</th>\n",
       "      <th>fnlwgt</th>\n",
       "      <th>education_num</th>\n",
       "      <th>capital_gain</th>\n",
       "      <th>capital_loss</th>\n",
       "      <th>hours_per_week</th>\n",
       "    </tr>\n",
       "  </thead>\n",
       "  <tbody>\n",
       "    <tr>\n",
       "      <th>count</th>\n",
       "      <td>26049.000000</td>\n",
       "      <td>26049.000000</td>\n",
       "      <td>2.604900e+04</td>\n",
       "      <td>26049.000000</td>\n",
       "      <td>26049.00000</td>\n",
       "      <td>26049.000000</td>\n",
       "      <td>26049.000000</td>\n",
       "    </tr>\n",
       "    <tr>\n",
       "      <th>mean</th>\n",
       "      <td>13024.000000</td>\n",
       "      <td>38.569235</td>\n",
       "      <td>1.903045e+05</td>\n",
       "      <td>10.088372</td>\n",
       "      <td>1087.68970</td>\n",
       "      <td>87.732734</td>\n",
       "      <td>40.443126</td>\n",
       "    </tr>\n",
       "    <tr>\n",
       "      <th>std</th>\n",
       "      <td>7519.842917</td>\n",
       "      <td>13.671489</td>\n",
       "      <td>1.059663e+05</td>\n",
       "      <td>2.567610</td>\n",
       "      <td>7388.85469</td>\n",
       "      <td>403.230205</td>\n",
       "      <td>12.361850</td>\n",
       "    </tr>\n",
       "    <tr>\n",
       "      <th>min</th>\n",
       "      <td>0.000000</td>\n",
       "      <td>17.000000</td>\n",
       "      <td>1.376900e+04</td>\n",
       "      <td>1.000000</td>\n",
       "      <td>0.00000</td>\n",
       "      <td>0.000000</td>\n",
       "      <td>1.000000</td>\n",
       "    </tr>\n",
       "    <tr>\n",
       "      <th>25%</th>\n",
       "      <td>6512.000000</td>\n",
       "      <td>28.000000</td>\n",
       "      <td>1.181080e+05</td>\n",
       "      <td>9.000000</td>\n",
       "      <td>0.00000</td>\n",
       "      <td>0.000000</td>\n",
       "      <td>40.000000</td>\n",
       "    </tr>\n",
       "    <tr>\n",
       "      <th>50%</th>\n",
       "      <td>13024.000000</td>\n",
       "      <td>37.000000</td>\n",
       "      <td>1.788660e+05</td>\n",
       "      <td>10.000000</td>\n",
       "      <td>0.00000</td>\n",
       "      <td>0.000000</td>\n",
       "      <td>40.000000</td>\n",
       "    </tr>\n",
       "    <tr>\n",
       "      <th>75%</th>\n",
       "      <td>19536.000000</td>\n",
       "      <td>48.000000</td>\n",
       "      <td>2.377350e+05</td>\n",
       "      <td>12.000000</td>\n",
       "      <td>0.00000</td>\n",
       "      <td>0.000000</td>\n",
       "      <td>45.000000</td>\n",
       "    </tr>\n",
       "    <tr>\n",
       "      <th>max</th>\n",
       "      <td>26048.000000</td>\n",
       "      <td>90.000000</td>\n",
       "      <td>1.484705e+06</td>\n",
       "      <td>16.000000</td>\n",
       "      <td>99999.00000</td>\n",
       "      <td>4356.000000</td>\n",
       "      <td>99.000000</td>\n",
       "    </tr>\n",
       "  </tbody>\n",
       "</table>\n",
       "</div>"
      ],
      "text/plain": [
       "                 id           age        fnlwgt  education_num  capital_gain  \\\n",
       "count  26049.000000  26049.000000  2.604900e+04   26049.000000   26049.00000   \n",
       "mean   13024.000000     38.569235  1.903045e+05      10.088372    1087.68970   \n",
       "std     7519.842917     13.671489  1.059663e+05       2.567610    7388.85469   \n",
       "min        0.000000     17.000000  1.376900e+04       1.000000       0.00000   \n",
       "25%     6512.000000     28.000000  1.181080e+05       9.000000       0.00000   \n",
       "50%    13024.000000     37.000000  1.788660e+05      10.000000       0.00000   \n",
       "75%    19536.000000     48.000000  2.377350e+05      12.000000       0.00000   \n",
       "max    26048.000000     90.000000  1.484705e+06      16.000000   99999.00000   \n",
       "\n",
       "       capital_loss  hours_per_week  \n",
       "count  26049.000000    26049.000000  \n",
       "mean      87.732734       40.443126  \n",
       "std      403.230205       12.361850  \n",
       "min        0.000000        1.000000  \n",
       "25%        0.000000       40.000000  \n",
       "50%        0.000000       40.000000  \n",
       "75%        0.000000       45.000000  \n",
       "max     4356.000000       99.000000  "
      ]
     },
     "execution_count": 7,
     "metadata": {},
     "output_type": "execute_result"
    }
   ],
   "source": [
    "train_df.describe()"
   ]
  },
  {
   "cell_type": "code",
   "execution_count": 8,
   "metadata": {},
   "outputs": [
    {
     "data": {
      "text/plain": [
       "<matplotlib.axes._subplots.AxesSubplot at 0x1b6d67ea948>"
      ]
     },
     "execution_count": 8,
     "metadata": {},
     "output_type": "execute_result"
    },
    {
     "data": {
      "image/png": "[encoded data removed]",
      "text/plain": [
       "<Figure size 1800x720 with 2 Axes>"
      ]
     },
     "metadata": {
      "needs_background": "light"
     },
     "output_type": "display_data"
    }
   ],
   "source": [
    "msno.matrix(train_df)"
   ]
  },
  {
   "cell_type": "code",
   "execution_count": 9,
   "metadata": {},
   "outputs": [
    {
     "data": {
      "text/plain": [
       "Index(['id', 'age', 'workclass', 'fnlwgt', 'education', 'education_num',\n",
       "       'marital_status', 'occupation', 'relationship', 'race', 'sex',\n",
       "       'capital_gain', 'capital_loss', 'hours_per_week', 'native_country',\n",
       "       'income'],\n",
       "      dtype='object')"
      ]
     },
     "execution_count": 9,
     "metadata": {},
     "output_type": "execute_result"
    }
   ],
   "source": [
    "train_df.columns"
   ]
  },
  {
   "cell_type": "markdown",
   "metadata": {},
   "source": [
    "'id', 'age', 'workclass', 'fnlwgt', 'education', 'education_num',\n",
    "       'marital_status', 'occupation', 'relationship', 'race', 'sex',\n",
    "       'capital_gain', 'capital_loss', 'hours_per_week', 'native_country',\n",
    "       'income'"
   ]
  },
  {
   "cell_type": "code",
   "execution_count": 10,
   "metadata": {},
   "outputs": [
    {
     "data": {
      "text/plain": [
       "Private             18123\n",
       "Self-emp-not-inc     2030\n",
       "Local-gov            1692\n",
       "?                    1502\n",
       "State-gov            1043\n",
       "Self-emp-inc          877\n",
       "Federal-gov           765\n",
       "Without-pay            11\n",
       "Never-worked            6\n",
       "Name: workclass, dtype: int64"
      ]
     },
     "execution_count": 10,
     "metadata": {},
     "output_type": "execute_result"
    }
   ],
   "source": [
    "train_df['workclass'].value_counts()"
   ]
  },
  {
   "cell_type": "code",
   "execution_count": 11,
   "metadata": {},
   "outputs": [
    {
     "data": {
      "image/png": "[encoded data removed]",
      "text/plain": [
       "<Figure size 864x360 with 1 Axes>"
      ]
     },
     "metadata": {
      "needs_background": "light"
     },
     "output_type": "display_data"
    }
   ],
   "source": [
    "fig, ax = plt.subplots(1,1, figsize= (12, 5))\n",
    "sns.countplot(data=train_df, x='race', ax = ax, hue='education')\n",
    "plt.show()"
   ]
  },
  {
   "cell_type": "code",
   "execution_count": 12,
   "metadata": {},
   "outputs": [
    {
     "data": {
      "image/png": "[encoded data removed]",
      "text/plain": [
       "<Figure size 864x360 with 1 Axes>"
      ]
     },
     "metadata": {
      "needs_background": "light"
     },
     "output_type": "display_data"
    }
   ],
   "source": [
    "fig, ax = plt.subplots(1,1, figsize= (12, 5))\n",
    "\n",
    "ax.hist(train_df['age'], width = 3, edgecolor = 'black')\n",
    "ax.set_title('age distribution', fontweight = 'bold')\n",
    "\n",
    "plt.show()"
   ]
  },
  {
   "cell_type": "code",
   "execution_count": 13,
   "metadata": {},
   "outputs": [
    {
     "data": {
      "text/plain": [
       "<matplotlib.axes._subplots.AxesSubplot at 0x1b6d6e9fd08>"
      ]
     },
     "execution_count": 13,
     "metadata": {},
     "output_type": "execute_result"
    },
    {
     "data": {
      "image/png": "[encoded data removed]",
      "text/plain": [
       "<Figure size 432x288 with 1 Axes>"
      ]
     },
     "metadata": {
      "needs_background": "light"
     },
     "output_type": "display_data"
    }
   ],
   "source": [
    "sns.kdeplot(data=train_df, x='age')"
   ]
  },
  {
   "cell_type": "code",
   "execution_count": 14,
   "metadata": {},
   "outputs": [],
   "source": [
    "train_df['income'] = (train_df['income'] == '>50K').astype(int)"
   ]
  },
  {
   "cell_type": "code",
   "execution_count": 15,
   "metadata": {},
   "outputs": [
    {
     "data": {
      "text/html": [
       "<style  type=\"text/css\" >\n",
       "#T_15b71cf4_1d23_11eb_9fed_d8f2caa91031row0_col0{\n",
       "            background-color:  #e4e3f0;\n",
       "            color:  #000000;\n",
       "        }#T_15b71cf4_1d23_11eb_9fed_d8f2caa91031row1_col0{\n",
       "            background-color:  #dadaeb;\n",
       "            color:  #000000;\n",
       "        }#T_15b71cf4_1d23_11eb_9fed_d8f2caa91031row2_col0{\n",
       "            background-color:  #d6d6e9;\n",
       "            color:  #000000;\n",
       "        }#T_15b71cf4_1d23_11eb_9fed_d8f2caa91031row3_col0{\n",
       "            background-color:  #3f007d;\n",
       "            color:  #f1f1f1;\n",
       "        }#T_15b71cf4_1d23_11eb_9fed_d8f2caa91031row4_col0{\n",
       "            background-color:  #faf9fc;\n",
       "            color:  #000000;\n",
       "        }#T_15b71cf4_1d23_11eb_9fed_d8f2caa91031row5_col0{\n",
       "            background-color:  #a19eca;\n",
       "            color:  #000000;\n",
       "        }#T_15b71cf4_1d23_11eb_9fed_d8f2caa91031row6_col0{\n",
       "            background-color:  #fcfbfd;\n",
       "            color:  #000000;\n",
       "        }#T_15b71cf4_1d23_11eb_9fed_d8f2caa91031row7_col0{\n",
       "            background-color:  #dcdcec;\n",
       "            color:  #000000;\n",
       "        }#T_15b71cf4_1d23_11eb_9fed_d8f2caa91031row8_col0{\n",
       "            background-color:  #d9d9ea;\n",
       "            color:  #000000;\n",
       "        }#T_15b71cf4_1d23_11eb_9fed_d8f2caa91031row9_col0{\n",
       "            background-color:  #4c1888;\n",
       "            color:  #f1f1f1;\n",
       "        }</style><table id=\"T_15b71cf4_1d23_11eb_9fed_d8f2caa91031\" ><thead>    <tr>        <th class=\"blank\" ></th>        <th class=\"blank level0\" ></th>        <th class=\"col_heading level0 col0\" >income</th>    </tr>    <tr>        <th class=\"index_name level0\" >race</th>        <th class=\"index_name level1\" >sex</th>        <th class=\"blank\" ></th>    </tr></thead><tbody>\n",
       "                <tr>\n",
       "                        <th id=\"T_15b71cf4_1d23_11eb_9fed_d8f2caa91031level0_row0\" class=\"row_heading level0 row0\" rowspan=2>Amer-Indian-Eskimo</th>\n",
       "                        <th id=\"T_15b71cf4_1d23_11eb_9fed_d8f2caa91031level1_row0\" class=\"row_heading level1 row0\" >Female</th>\n",
       "                        <td id=\"T_15b71cf4_1d23_11eb_9fed_d8f2caa91031row0_col0\" class=\"data row0 col0\" >0.102273</td>\n",
       "            </tr>\n",
       "            <tr>\n",
       "                                <th id=\"T_15b71cf4_1d23_11eb_9fed_d8f2caa91031level1_row1\" class=\"row_heading level1 row1\" >Male</th>\n",
       "                        <td id=\"T_15b71cf4_1d23_11eb_9fed_d8f2caa91031row1_col0\" class=\"data row1 col0\" >0.120482</td>\n",
       "            </tr>\n",
       "            <tr>\n",
       "                        <th id=\"T_15b71cf4_1d23_11eb_9fed_d8f2caa91031level0_row2\" class=\"row_heading level0 row2\" rowspan=2>Asian-Pac-Islander</th>\n",
       "                        <th id=\"T_15b71cf4_1d23_11eb_9fed_d8f2caa91031level1_row2\" class=\"row_heading level1 row2\" >Female</th>\n",
       "                        <td id=\"T_15b71cf4_1d23_11eb_9fed_d8f2caa91031row2_col0\" class=\"data row2 col0\" >0.125926</td>\n",
       "            </tr>\n",
       "            <tr>\n",
       "                                <th id=\"T_15b71cf4_1d23_11eb_9fed_d8f2caa91031level1_row3\" class=\"row_heading level1 row3\" >Male</th>\n",
       "                        <td id=\"T_15b71cf4_1d23_11eb_9fed_d8f2caa91031row3_col0\" class=\"data row3 col0\" >0.341509</td>\n",
       "            </tr>\n",
       "            <tr>\n",
       "                        <th id=\"T_15b71cf4_1d23_11eb_9fed_d8f2caa91031level0_row4\" class=\"row_heading level0 row4\" rowspan=2>Black</th>\n",
       "                        <th id=\"T_15b71cf4_1d23_11eb_9fed_d8f2caa91031level1_row4\" class=\"row_heading level1 row4\" >Female</th>\n",
       "                        <td id=\"T_15b71cf4_1d23_11eb_9fed_d8f2caa91031row4_col0\" class=\"data row4 col0\" >0.051682</td>\n",
       "            </tr>\n",
       "            <tr>\n",
       "                                <th id=\"T_15b71cf4_1d23_11eb_9fed_d8f2caa91031level1_row5\" class=\"row_heading level1 row5\" >Male</th>\n",
       "                        <td id=\"T_15b71cf4_1d23_11eb_9fed_d8f2caa91031row5_col0\" class=\"data row5 col0\" >0.190135</td>\n",
       "            </tr>\n",
       "            <tr>\n",
       "                        <th id=\"T_15b71cf4_1d23_11eb_9fed_d8f2caa91031level0_row6\" class=\"row_heading level0 row6\" rowspan=2>Other</th>\n",
       "                        <th id=\"T_15b71cf4_1d23_11eb_9fed_d8f2caa91031level1_row6\" class=\"row_heading level1 row6\" >Female</th>\n",
       "                        <td id=\"T_15b71cf4_1d23_11eb_9fed_d8f2caa91031row6_col0\" class=\"data row6 col0\" >0.047059</td>\n",
       "            </tr>\n",
       "            <tr>\n",
       "                                <th id=\"T_15b71cf4_1d23_11eb_9fed_d8f2caa91031level1_row7\" class=\"row_heading level1 row7\" >Male</th>\n",
       "                        <td id=\"T_15b71cf4_1d23_11eb_9fed_d8f2caa91031row7_col0\" class=\"data row7 col0\" >0.117647</td>\n",
       "            </tr>\n",
       "            <tr>\n",
       "                        <th id=\"T_15b71cf4_1d23_11eb_9fed_d8f2caa91031level0_row8\" class=\"row_heading level0 row8\" rowspan=2>White</th>\n",
       "                        <th id=\"T_15b71cf4_1d23_11eb_9fed_d8f2caa91031level1_row8\" class=\"row_heading level1 row8\" >Female</th>\n",
       "                        <td id=\"T_15b71cf4_1d23_11eb_9fed_d8f2caa91031row8_col0\" class=\"data row8 col0\" >0.122085</td>\n",
       "            </tr>\n",
       "            <tr>\n",
       "                                <th id=\"T_15b71cf4_1d23_11eb_9fed_d8f2caa91031level1_row9\" class=\"row_heading level1 row9\" >Male</th>\n",
       "                        <td id=\"T_15b71cf4_1d23_11eb_9fed_d8f2caa91031row9_col0\" class=\"data row9 col0\" >0.317846</td>\n",
       "            </tr>\n",
       "    </tbody></table>"
      ],
      "text/plain": [
       "<pandas.io.formats.style.Styler at 0x1b6d69811c8>"
      ]
     },
     "execution_count": 15,
     "metadata": {},
     "output_type": "execute_result"
    }
   ],
   "source": [
    "train_df.groupby(['race', 'sex'])[['income']].mean().style.background_gradient(cmap = 'Purples')"
   ]
  },
  {
   "cell_type": "code",
   "execution_count": 16,
   "metadata": {},
   "outputs": [
    {
     "data": {
      "text/html": [
       "<div>\n",
       "<style scoped>\n",
       "    .dataframe tbody tr th:only-of-type {\n",
       "        vertical-align: middle;\n",
       "    }\n",
       "\n",
       "    .dataframe tbody tr th {\n",
       "        vertical-align: top;\n",
       "    }\n",
       "\n",
       "    .dataframe thead th {\n",
       "        text-align: right;\n",
       "    }\n",
       "</style>\n",
       "<table border=\"1\" class=\"dataframe\">\n",
       "  <thead>\n",
       "    <tr style=\"text-align: right;\">\n",
       "      <th>sex</th>\n",
       "      <th>Female</th>\n",
       "      <th>Male</th>\n",
       "    </tr>\n",
       "    <tr>\n",
       "      <th>race</th>\n",
       "      <th></th>\n",
       "      <th></th>\n",
       "    </tr>\n",
       "  </thead>\n",
       "  <tbody>\n",
       "    <tr>\n",
       "      <th>Amer-Indian-Eskimo</th>\n",
       "      <td>0.102273</td>\n",
       "      <td>0.120482</td>\n",
       "    </tr>\n",
       "    <tr>\n",
       "      <th>Asian-Pac-Islander</th>\n",
       "      <td>0.125926</td>\n",
       "      <td>0.341509</td>\n",
       "    </tr>\n",
       "    <tr>\n",
       "      <th>Black</th>\n",
       "      <td>0.051682</td>\n",
       "      <td>0.190135</td>\n",
       "    </tr>\n",
       "    <tr>\n",
       "      <th>Other</th>\n",
       "      <td>0.047059</td>\n",
       "      <td>0.117647</td>\n",
       "    </tr>\n",
       "    <tr>\n",
       "      <th>White</th>\n",
       "      <td>0.122085</td>\n",
       "      <td>0.317846</td>\n",
       "    </tr>\n",
       "  </tbody>\n",
       "</table>\n",
       "</div>"
      ],
      "text/plain": [
       "sex                   Female      Male\n",
       "race                                  \n",
       "Amer-Indian-Eskimo  0.102273  0.120482\n",
       "Asian-Pac-Islander  0.125926  0.341509\n",
       "Black               0.051682  0.190135\n",
       "Other               0.047059  0.117647\n",
       "White               0.122085  0.317846"
      ]
     },
     "execution_count": 16,
     "metadata": {},
     "output_type": "execute_result"
    }
   ],
   "source": [
    "pd.pivot_table(train_df, columns='sex', index='race', values='income', aggfunc='mean')"
   ]
  },
  {
   "cell_type": "code",
   "execution_count": 17,
   "metadata": {},
   "outputs": [
    {
     "data": {
      "text/plain": [
       "<matplotlib.axes._subplots.AxesSubplot at 0x1b6d83f1848>"
      ]
     },
     "execution_count": 17,
     "metadata": {},
     "output_type": "execute_result"
    },
    {
     "data": {
      "image/png": "[encoded data removed]",
      "text/plain": [
       "<Figure size 864x360 with 1 Axes>"
      ]
     },
     "metadata": {
      "needs_background": "light"
     },
     "output_type": "display_data"
    }
   ],
   "source": [
    "fig, ax = plt.subplots(1, 1, figsize= (12,5))\n",
    "sns.boxplot(data=train_df, x='race', y='age', ax = ax, hue = 'sex')\n",
    "\n",
    "#sns.violinplot(data=train_df, x='race', y='age', ax = ax, hue = 'sex')\n"
   ]
  },
  {
   "cell_type": "code",
   "execution_count": 18,
   "metadata": {},
   "outputs": [
    {
     "data": {
      "text/html": [
       "<style  type=\"text/css\" >\n",
       "#T_1673ce18_1d23_11eb_98f6_d8f2caa91031row0_col0,#T_1673ce18_1d23_11eb_98f6_d8f2caa91031row1_col1,#T_1673ce18_1d23_11eb_98f6_d8f2caa91031row2_col2,#T_1673ce18_1d23_11eb_98f6_d8f2caa91031row3_col3,#T_1673ce18_1d23_11eb_98f6_d8f2caa91031row4_col4,#T_1673ce18_1d23_11eb_98f6_d8f2caa91031row5_col5,#T_1673ce18_1d23_11eb_98f6_d8f2caa91031row6_col6,#T_1673ce18_1d23_11eb_98f6_d8f2caa91031row7_col7{\n",
       "            background-color:  #b40426;\n",
       "            color:  #f1f1f1;\n",
       "        }#T_1673ce18_1d23_11eb_98f6_d8f2caa91031row0_col1{\n",
       "            background-color:  #536edd;\n",
       "            color:  #000000;\n",
       "        }#T_1673ce18_1d23_11eb_98f6_d8f2caa91031row0_col2{\n",
       "            background-color:  #4f69d9;\n",
       "            color:  #000000;\n",
       "        }#T_1673ce18_1d23_11eb_98f6_d8f2caa91031row0_col3{\n",
       "            background-color:  #485fd1;\n",
       "            color:  #f1f1f1;\n",
       "        }#T_1673ce18_1d23_11eb_98f6_d8f2caa91031row0_col4{\n",
       "            background-color:  #455cce;\n",
       "            color:  #f1f1f1;\n",
       "        }#T_1673ce18_1d23_11eb_98f6_d8f2caa91031row0_col5,#T_1673ce18_1d23_11eb_98f6_d8f2caa91031row3_col2{\n",
       "            background-color:  #4358cb;\n",
       "            color:  #f1f1f1;\n",
       "        }#T_1673ce18_1d23_11eb_98f6_d8f2caa91031row0_col6{\n",
       "            background-color:  #4257c9;\n",
       "            color:  #f1f1f1;\n",
       "        }#T_1673ce18_1d23_11eb_98f6_d8f2caa91031row0_col7{\n",
       "            background-color:  #3e51c5;\n",
       "            color:  #f1f1f1;\n",
       "        }#T_1673ce18_1d23_11eb_98f6_d8f2caa91031row1_col0,#T_1673ce18_1d23_11eb_98f6_d8f2caa91031row4_col0,#T_1673ce18_1d23_11eb_98f6_d8f2caa91031row6_col0{\n",
       "            background-color:  #3d50c3;\n",
       "            color:  #f1f1f1;\n",
       "        }#T_1673ce18_1d23_11eb_98f6_d8f2caa91031row1_col2,#T_1673ce18_1d23_11eb_98f6_d8f2caa91031row2_col0,#T_1673ce18_1d23_11eb_98f6_d8f2caa91031row2_col1,#T_1673ce18_1d23_11eb_98f6_d8f2caa91031row2_col3,#T_1673ce18_1d23_11eb_98f6_d8f2caa91031row2_col6,#T_1673ce18_1d23_11eb_98f6_d8f2caa91031row2_col7,#T_1673ce18_1d23_11eb_98f6_d8f2caa91031row4_col5,#T_1673ce18_1d23_11eb_98f6_d8f2caa91031row5_col0,#T_1673ce18_1d23_11eb_98f6_d8f2caa91031row5_col4{\n",
       "            background-color:  #3b4cc0;\n",
       "            color:  #f1f1f1;\n",
       "        }#T_1673ce18_1d23_11eb_98f6_d8f2caa91031row1_col3,#T_1673ce18_1d23_11eb_98f6_d8f2caa91031row1_col6,#T_1673ce18_1d23_11eb_98f6_d8f2caa91031row6_col5{\n",
       "            background-color:  #5470de;\n",
       "            color:  #000000;\n",
       "        }#T_1673ce18_1d23_11eb_98f6_d8f2caa91031row1_col4,#T_1673ce18_1d23_11eb_98f6_d8f2caa91031row3_col1,#T_1673ce18_1d23_11eb_98f6_d8f2caa91031row6_col4{\n",
       "            background-color:  #5b7ae5;\n",
       "            color:  #000000;\n",
       "        }#T_1673ce18_1d23_11eb_98f6_d8f2caa91031row1_col5{\n",
       "            background-color:  #5572df;\n",
       "            color:  #000000;\n",
       "        }#T_1673ce18_1d23_11eb_98f6_d8f2caa91031row1_col7{\n",
       "            background-color:  #88abfd;\n",
       "            color:  #000000;\n",
       "        }#T_1673ce18_1d23_11eb_98f6_d8f2caa91031row2_col4{\n",
       "            background-color:  #445acc;\n",
       "            color:  #f1f1f1;\n",
       "        }#T_1673ce18_1d23_11eb_98f6_d8f2caa91031row2_col5{\n",
       "            background-color:  #4055c8;\n",
       "            color:  #f1f1f1;\n",
       "        }#T_1673ce18_1d23_11eb_98f6_d8f2caa91031row3_col0,#T_1673ce18_1d23_11eb_98f6_d8f2caa91031row7_col0{\n",
       "            background-color:  #3c4ec2;\n",
       "            color:  #f1f1f1;\n",
       "        }#T_1673ce18_1d23_11eb_98f6_d8f2caa91031row3_col4{\n",
       "            background-color:  #688aef;\n",
       "            color:  #000000;\n",
       "        }#T_1673ce18_1d23_11eb_98f6_d8f2caa91031row3_col5{\n",
       "            background-color:  #5a78e4;\n",
       "            color:  #000000;\n",
       "        }#T_1673ce18_1d23_11eb_98f6_d8f2caa91031row3_col6{\n",
       "            background-color:  #6e90f2;\n",
       "            color:  #000000;\n",
       "        }#T_1673ce18_1d23_11eb_98f6_d8f2caa91031row3_col7{\n",
       "            background-color:  #abc8fd;\n",
       "            color:  #000000;\n",
       "        }#T_1673ce18_1d23_11eb_98f6_d8f2caa91031row4_col1{\n",
       "            background-color:  #6788ee;\n",
       "            color:  #000000;\n",
       "        }#T_1673ce18_1d23_11eb_98f6_d8f2caa91031row4_col2,#T_1673ce18_1d23_11eb_98f6_d8f2caa91031row5_col6{\n",
       "            background-color:  #506bda;\n",
       "            color:  #000000;\n",
       "        }#T_1673ce18_1d23_11eb_98f6_d8f2caa91031row4_col3,#T_1673ce18_1d23_11eb_98f6_d8f2caa91031row5_col7{\n",
       "            background-color:  #6c8ff1;\n",
       "            color:  #000000;\n",
       "        }#T_1673ce18_1d23_11eb_98f6_d8f2caa91031row4_col6{\n",
       "            background-color:  #5977e3;\n",
       "            color:  #000000;\n",
       "        }#T_1673ce18_1d23_11eb_98f6_d8f2caa91031row4_col7{\n",
       "            background-color:  #86a9fc;\n",
       "            color:  #000000;\n",
       "        }#T_1673ce18_1d23_11eb_98f6_d8f2caa91031row5_col1{\n",
       "            background-color:  #6180e9;\n",
       "            color:  #000000;\n",
       "        }#T_1673ce18_1d23_11eb_98f6_d8f2caa91031row5_col2,#T_1673ce18_1d23_11eb_98f6_d8f2caa91031row7_col2{\n",
       "            background-color:  #4e68d8;\n",
       "            color:  #000000;\n",
       "        }#T_1673ce18_1d23_11eb_98f6_d8f2caa91031row5_col3{\n",
       "            background-color:  #5e7de7;\n",
       "            color:  #000000;\n",
       "        }#T_1673ce18_1d23_11eb_98f6_d8f2caa91031row6_col1{\n",
       "            background-color:  #6384eb;\n",
       "            color:  #000000;\n",
       "        }#T_1673ce18_1d23_11eb_98f6_d8f2caa91031row6_col2{\n",
       "            background-color:  #4a63d3;\n",
       "            color:  #f1f1f1;\n",
       "        }#T_1673ce18_1d23_11eb_98f6_d8f2caa91031row6_col3{\n",
       "            background-color:  #7699f6;\n",
       "            color:  #000000;\n",
       "        }#T_1673ce18_1d23_11eb_98f6_d8f2caa91031row6_col7{\n",
       "            background-color:  #89acfd;\n",
       "            color:  #000000;\n",
       "        }#T_1673ce18_1d23_11eb_98f6_d8f2caa91031row7_col1{\n",
       "            background-color:  #98b9ff;\n",
       "            color:  #000000;\n",
       "        }#T_1673ce18_1d23_11eb_98f6_d8f2caa91031row7_col3{\n",
       "            background-color:  #b5cdfa;\n",
       "            color:  #000000;\n",
       "        }#T_1673ce18_1d23_11eb_98f6_d8f2caa91031row7_col4,#T_1673ce18_1d23_11eb_98f6_d8f2caa91031row7_col6{\n",
       "            background-color:  #8caffe;\n",
       "            color:  #000000;\n",
       "        }#T_1673ce18_1d23_11eb_98f6_d8f2caa91031row7_col5{\n",
       "            background-color:  #7396f5;\n",
       "            color:  #000000;\n",
       "        }</style><table id=\"T_1673ce18_1d23_11eb_98f6_d8f2caa91031\" ><thead>    <tr>        <th class=\"blank level0\" ></th>        <th class=\"col_heading level0 col0\" >id</th>        <th class=\"col_heading level0 col1\" >age</th>        <th class=\"col_heading level0 col2\" >fnlwgt</th>        <th class=\"col_heading level0 col3\" >education_num</th>        <th class=\"col_heading level0 col4\" >capital_gain</th>        <th class=\"col_heading level0 col5\" >capital_loss</th>        <th class=\"col_heading level0 col6\" >hours_per_week</th>        <th class=\"col_heading level0 col7\" >income</th>    </tr></thead><tbody>\n",
       "                <tr>\n",
       "                        <th id=\"T_1673ce18_1d23_11eb_98f6_d8f2caa91031level0_row0\" class=\"row_heading level0 row0\" >id</th>\n",
       "                        <td id=\"T_1673ce18_1d23_11eb_98f6_d8f2caa91031row0_col0\" class=\"data row0 col0\" >1.000000</td>\n",
       "                        <td id=\"T_1673ce18_1d23_11eb_98f6_d8f2caa91031row0_col1\" class=\"data row0 col1\" >0.007866</td>\n",
       "                        <td id=\"T_1673ce18_1d23_11eb_98f6_d8f2caa91031row0_col2\" class=\"data row0 col2\" >-0.001191</td>\n",
       "                        <td id=\"T_1673ce18_1d23_11eb_98f6_d8f2caa91031row0_col3\" class=\"data row0 col3\" >0.002309</td>\n",
       "                        <td id=\"T_1673ce18_1d23_11eb_98f6_d8f2caa91031row0_col4\" class=\"data row0 col4\" >0.007228</td>\n",
       "                        <td id=\"T_1673ce18_1d23_11eb_98f6_d8f2caa91031row0_col5\" class=\"data row0 col5\" >-0.002553</td>\n",
       "                        <td id=\"T_1673ce18_1d23_11eb_98f6_d8f2caa91031row0_col6\" class=\"data row0 col6\" >0.005749</td>\n",
       "                        <td id=\"T_1673ce18_1d23_11eb_98f6_d8f2caa91031row0_col7\" class=\"data row0 col7\" >0.004350</td>\n",
       "            </tr>\n",
       "            <tr>\n",
       "                        <th id=\"T_1673ce18_1d23_11eb_98f6_d8f2caa91031level0_row1\" class=\"row_heading level0 row1\" >age</th>\n",
       "                        <td id=\"T_1673ce18_1d23_11eb_98f6_d8f2caa91031row1_col0\" class=\"data row1 col0\" >0.007866</td>\n",
       "                        <td id=\"T_1673ce18_1d23_11eb_98f6_d8f2caa91031row1_col1\" class=\"data row1 col1\" >1.000000</td>\n",
       "                        <td id=\"T_1673ce18_1d23_11eb_98f6_d8f2caa91031row1_col2\" class=\"data row1 col2\" >-0.076618</td>\n",
       "                        <td id=\"T_1673ce18_1d23_11eb_98f6_d8f2caa91031row1_col3\" class=\"data row1 col3\" >0.040107</td>\n",
       "                        <td id=\"T_1673ce18_1d23_11eb_98f6_d8f2caa91031row1_col4\" class=\"data row1 col4\" >0.077768</td>\n",
       "                        <td id=\"T_1673ce18_1d23_11eb_98f6_d8f2caa91031row1_col5\" class=\"data row1 col5\" >0.057875</td>\n",
       "                        <td id=\"T_1673ce18_1d23_11eb_98f6_d8f2caa91031row1_col6\" class=\"data row1 col6\" >0.066038</td>\n",
       "                        <td id=\"T_1673ce18_1d23_11eb_98f6_d8f2caa91031row1_col7\" class=\"data row1 col7\" >0.229292</td>\n",
       "            </tr>\n",
       "            <tr>\n",
       "                        <th id=\"T_1673ce18_1d23_11eb_98f6_d8f2caa91031level0_row2\" class=\"row_heading level0 row2\" >fnlwgt</th>\n",
       "                        <td id=\"T_1673ce18_1d23_11eb_98f6_d8f2caa91031row2_col0\" class=\"data row2 col0\" >-0.001191</td>\n",
       "                        <td id=\"T_1673ce18_1d23_11eb_98f6_d8f2caa91031row2_col1\" class=\"data row2 col1\" >-0.076618</td>\n",
       "                        <td id=\"T_1673ce18_1d23_11eb_98f6_d8f2caa91031row2_col2\" class=\"data row2 col2\" >1.000000</td>\n",
       "                        <td id=\"T_1673ce18_1d23_11eb_98f6_d8f2caa91031row2_col3\" class=\"data row2 col3\" >-0.046377</td>\n",
       "                        <td id=\"T_1673ce18_1d23_11eb_98f6_d8f2caa91031row2_col4\" class=\"data row2 col4\" >0.000953</td>\n",
       "                        <td id=\"T_1673ce18_1d23_11eb_98f6_d8f2caa91031row2_col5\" class=\"data row2 col5\" >-0.008689</td>\n",
       "                        <td id=\"T_1673ce18_1d23_11eb_98f6_d8f2caa91031row2_col6\" class=\"data row2 col6\" >-0.020064</td>\n",
       "                        <td id=\"T_1673ce18_1d23_11eb_98f6_d8f2caa91031row2_col7\" class=\"data row2 col7\" >-0.007500</td>\n",
       "            </tr>\n",
       "            <tr>\n",
       "                        <th id=\"T_1673ce18_1d23_11eb_98f6_d8f2caa91031level0_row3\" class=\"row_heading level0 row3\" >education_num</th>\n",
       "                        <td id=\"T_1673ce18_1d23_11eb_98f6_d8f2caa91031row3_col0\" class=\"data row3 col0\" >0.002309</td>\n",
       "                        <td id=\"T_1673ce18_1d23_11eb_98f6_d8f2caa91031row3_col1\" class=\"data row3 col1\" >0.040107</td>\n",
       "                        <td id=\"T_1673ce18_1d23_11eb_98f6_d8f2caa91031row3_col2\" class=\"data row3 col2\" >-0.046377</td>\n",
       "                        <td id=\"T_1673ce18_1d23_11eb_98f6_d8f2caa91031row3_col3\" class=\"data row3 col3\" >1.000000</td>\n",
       "                        <td id=\"T_1673ce18_1d23_11eb_98f6_d8f2caa91031row3_col4\" class=\"data row3 col4\" >0.119382</td>\n",
       "                        <td id=\"T_1673ce18_1d23_11eb_98f6_d8f2caa91031row3_col5\" class=\"data row3 col5\" >0.074813</td>\n",
       "                        <td id=\"T_1673ce18_1d23_11eb_98f6_d8f2caa91031row3_col6\" class=\"data row3 col6\" >0.146063</td>\n",
       "                        <td id=\"T_1673ce18_1d23_11eb_98f6_d8f2caa91031row3_col7\" class=\"data row3 col7\" >0.334582</td>\n",
       "            </tr>\n",
       "            <tr>\n",
       "                        <th id=\"T_1673ce18_1d23_11eb_98f6_d8f2caa91031level0_row4\" class=\"row_heading level0 row4\" >capital_gain</th>\n",
       "                        <td id=\"T_1673ce18_1d23_11eb_98f6_d8f2caa91031row4_col0\" class=\"data row4 col0\" >0.007228</td>\n",
       "                        <td id=\"T_1673ce18_1d23_11eb_98f6_d8f2caa91031row4_col1\" class=\"data row4 col1\" >0.077768</td>\n",
       "                        <td id=\"T_1673ce18_1d23_11eb_98f6_d8f2caa91031row4_col2\" class=\"data row4 col2\" >0.000953</td>\n",
       "                        <td id=\"T_1673ce18_1d23_11eb_98f6_d8f2caa91031row4_col3\" class=\"data row4 col3\" >0.119382</td>\n",
       "                        <td id=\"T_1673ce18_1d23_11eb_98f6_d8f2caa91031row4_col4\" class=\"data row4 col4\" >1.000000</td>\n",
       "                        <td id=\"T_1673ce18_1d23_11eb_98f6_d8f2caa91031row4_col5\" class=\"data row4 col5\" >-0.032030</td>\n",
       "                        <td id=\"T_1673ce18_1d23_11eb_98f6_d8f2caa91031row4_col6\" class=\"data row4 col6\" >0.080543</td>\n",
       "                        <td id=\"T_1673ce18_1d23_11eb_98f6_d8f2caa91031row4_col7\" class=\"data row4 col7\" >0.225296</td>\n",
       "            </tr>\n",
       "            <tr>\n",
       "                        <th id=\"T_1673ce18_1d23_11eb_98f6_d8f2caa91031level0_row5\" class=\"row_heading level0 row5\" >capital_loss</th>\n",
       "                        <td id=\"T_1673ce18_1d23_11eb_98f6_d8f2caa91031row5_col0\" class=\"data row5 col0\" >-0.002553</td>\n",
       "                        <td id=\"T_1673ce18_1d23_11eb_98f6_d8f2caa91031row5_col1\" class=\"data row5 col1\" >0.057875</td>\n",
       "                        <td id=\"T_1673ce18_1d23_11eb_98f6_d8f2caa91031row5_col2\" class=\"data row5 col2\" >-0.008689</td>\n",
       "                        <td id=\"T_1673ce18_1d23_11eb_98f6_d8f2caa91031row5_col3\" class=\"data row5 col3\" >0.074813</td>\n",
       "                        <td id=\"T_1673ce18_1d23_11eb_98f6_d8f2caa91031row5_col4\" class=\"data row5 col4\" >-0.032030</td>\n",
       "                        <td id=\"T_1673ce18_1d23_11eb_98f6_d8f2caa91031row5_col5\" class=\"data row5 col5\" >1.000000</td>\n",
       "                        <td id=\"T_1673ce18_1d23_11eb_98f6_d8f2caa91031row5_col6\" class=\"data row5 col6\" >0.054957</td>\n",
       "                        <td id=\"T_1673ce18_1d23_11eb_98f6_d8f2caa91031row5_col7\" class=\"data row5 col7\" >0.152537</td>\n",
       "            </tr>\n",
       "            <tr>\n",
       "                        <th id=\"T_1673ce18_1d23_11eb_98f6_d8f2caa91031level0_row6\" class=\"row_heading level0 row6\" >hours_per_week</th>\n",
       "                        <td id=\"T_1673ce18_1d23_11eb_98f6_d8f2caa91031row6_col0\" class=\"data row6 col0\" >0.005749</td>\n",
       "                        <td id=\"T_1673ce18_1d23_11eb_98f6_d8f2caa91031row6_col1\" class=\"data row6 col1\" >0.066038</td>\n",
       "                        <td id=\"T_1673ce18_1d23_11eb_98f6_d8f2caa91031row6_col2\" class=\"data row6 col2\" >-0.020064</td>\n",
       "                        <td id=\"T_1673ce18_1d23_11eb_98f6_d8f2caa91031row6_col3\" class=\"data row6 col3\" >0.146063</td>\n",
       "                        <td id=\"T_1673ce18_1d23_11eb_98f6_d8f2caa91031row6_col4\" class=\"data row6 col4\" >0.080543</td>\n",
       "                        <td id=\"T_1673ce18_1d23_11eb_98f6_d8f2caa91031row6_col5\" class=\"data row6 col5\" >0.054957</td>\n",
       "                        <td id=\"T_1673ce18_1d23_11eb_98f6_d8f2caa91031row6_col6\" class=\"data row6 col6\" >1.000000</td>\n",
       "                        <td id=\"T_1673ce18_1d23_11eb_98f6_d8f2caa91031row6_col7\" class=\"data row6 col7\" >0.233726</td>\n",
       "            </tr>\n",
       "            <tr>\n",
       "                        <th id=\"T_1673ce18_1d23_11eb_98f6_d8f2caa91031level0_row7\" class=\"row_heading level0 row7\" >income</th>\n",
       "                        <td id=\"T_1673ce18_1d23_11eb_98f6_d8f2caa91031row7_col0\" class=\"data row7 col0\" >0.004350</td>\n",
       "                        <td id=\"T_1673ce18_1d23_11eb_98f6_d8f2caa91031row7_col1\" class=\"data row7 col1\" >0.229292</td>\n",
       "                        <td id=\"T_1673ce18_1d23_11eb_98f6_d8f2caa91031row7_col2\" class=\"data row7 col2\" >-0.007500</td>\n",
       "                        <td id=\"T_1673ce18_1d23_11eb_98f6_d8f2caa91031row7_col3\" class=\"data row7 col3\" >0.334582</td>\n",
       "                        <td id=\"T_1673ce18_1d23_11eb_98f6_d8f2caa91031row7_col4\" class=\"data row7 col4\" >0.225296</td>\n",
       "                        <td id=\"T_1673ce18_1d23_11eb_98f6_d8f2caa91031row7_col5\" class=\"data row7 col5\" >0.152537</td>\n",
       "                        <td id=\"T_1673ce18_1d23_11eb_98f6_d8f2caa91031row7_col6\" class=\"data row7 col6\" >0.233726</td>\n",
       "                        <td id=\"T_1673ce18_1d23_11eb_98f6_d8f2caa91031row7_col7\" class=\"data row7 col7\" >1.000000</td>\n",
       "            </tr>\n",
       "    </tbody></table>"
      ],
      "text/plain": [
       "<pandas.io.formats.style.Styler at 0x1b6d69551c8>"
      ]
     },
     "execution_count": 18,
     "metadata": {},
     "output_type": "execute_result"
    }
   ],
   "source": [
    "train_df.corr().style.background_gradient(cmap='coolwarm')"
   ]
  },
  {
   "cell_type": "code",
   "execution_count": 19,
   "metadata": {},
   "outputs": [],
   "source": [
    "corr = train_df.corr()"
   ]
  },
  {
   "cell_type": "code",
   "execution_count": 20,
   "metadata": {},
   "outputs": [
    {
     "data": {
      "text/plain": [
       "<matplotlib.axes._subplots.AxesSubplot at 0x1b6d84a1c88>"
      ]
     },
     "execution_count": 20,
     "metadata": {},
     "output_type": "execute_result"
    },
    {
     "data": {
      "image/png": "[encoded data removed]",
      "text/plain": [
       "<Figure size 432x288 with 2 Axes>"
      ]
     },
     "metadata": {
      "needs_background": "light"
     },
     "output_type": "display_data"
    }
   ],
   "source": [
    "sns.heatmap(corr, square=True, linecolor='white', linewidth=0.1, cmap='coolwarm', vmax=1.0, vmin=-1.0)"
   ]
  },
  {
   "cell_type": "code",
   "execution_count": null,
   "metadata": {},
   "outputs": [],
   "source": []
  },
  {
   "cell_type": "code",
   "execution_count": null,
   "metadata": {},
   "outputs": [],
   "source": []
  },
  {
   "cell_type": "code",
   "execution_count": null,
   "metadata": {},
   "outputs": [],
   "source": []
  },
  {
   "cell_type": "code",
   "execution_count": null,
   "metadata": {},
   "outputs": [],
   "source": []
  },
  {
   "cell_type": "code",
   "execution_count": null,
   "metadata": {},
   "outputs": [],
   "source": []
  },
  {
   "cell_type": "code",
   "execution_count": null,
   "metadata": {},
   "outputs": [],
   "source": []
  },
  {
   "cell_type": "code",
   "execution_count": null,
   "metadata": {},
   "outputs": [],
   "source": []
  },
  {
   "cell_type": "code",
   "execution_count": null,
   "metadata": {},
   "outputs": [],
   "source": []
  }
 ],
 "metadata": {
  "kernelspec": {
   "display_name": "Python 3",
   "language": "python",
   "name": "python3"
  },
  "language_info": {
   "codemirror_mode": {
    "name": "ipython",
    "version": 3
   },
   "file_extension": ".py",
   "mimetype": "text/x-python",
   "name": "python",
   "nbconvert_exporter": "python",
   "pygments_lexer": "ipython3",
   "version": "3.7.7"
  }
 },
 "nbformat": 4,
 "nbformat_minor": 4
}
